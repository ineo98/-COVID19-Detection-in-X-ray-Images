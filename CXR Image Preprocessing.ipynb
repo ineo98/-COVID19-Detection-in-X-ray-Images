{
 "cells": [
  {
   "cell_type": "code",
   "execution_count": 1,
   "metadata": {},
   "outputs": [],
   "source": [
    "from keras.preprocessing.image import ImageDataGenerator\n",
    "from sklearn.model_selection import train_test_split\n",
    "from keras.preprocessing.image import img_to_array\n",
    "from keras.preprocessing.image import load_img\n",
    "import matplotlib.pyplot as plt\n",
    "import numpy as np\n",
    "import cv2\n",
    "import os\n",
    "import tensorflow\n",
    "import keras"
   ]
  },
  {
   "cell_type": "code",
   "execution_count": 2,
   "metadata": {},
   "outputs": [],
   "source": [
    "# directory which contains the image dataset from Kaggle\n",
    "DATADIR = \"C:/Users/Vern Sin/Documents/Jupyter/CXR Classification/ori\"\n",
    "\n",
    "# there are 2 category in the dataset\n",
    "CATEGORIES = [\"covid\", \"health\"]"
   ]
  },
  {
   "cell_type": "code",
   "execution_count": 3,
   "metadata": {},
   "outputs": [],
   "source": [
    "# resize image from both category\n",
    "def resize_img(LargeImage):\n",
    "    SmallImage = cv2.resize(LargeImage, (224, 224))\n",
    "    return SmallImage"
   ]
  },
  {
   "cell_type": "code",
   "execution_count": 4,
   "metadata": {},
   "outputs": [],
   "source": [
    "# create pseudo color image using list comprehension\n",
    "def increase_channel(smallImage):\n",
    "    image_BilateralFilter = cv2.bilateralFilter(smallImage, 9, 75, 75)\n",
    "    image_HistEqual = cv2.equalizeHist(smallImage)\n",
    "    final_image = [[np.array([image_HistEqual[i][j], smallImage[i][j], image_BilateralFilter[i][j]]) for j in range(224)] for i in range(224)]\n",
    "#     final_image = np.zeros([256,256,3])\n",
    "#     final_image[:,:,0] = np.array(image_HistEqual)\n",
    "#     final_image[:,:,1] = np.array(smallImage)\n",
    "#     final_image[:,:,2] = np.array(image_HistEqual)\n",
    "    return final_image"
   ]
  },
  {
   "cell_type": "code",
   "execution_count": 5,
   "metadata": {},
   "outputs": [
    {
     "data": {
      "text/plain": [
       "['covid', 'health']"
      ]
     },
     "execution_count": 5,
     "metadata": {},
     "output_type": "execute_result"
    }
   ],
   "source": [
    "CATEGORIES"
   ]
  },
  {
   "cell_type": "code",
   "execution_count": 6,
   "metadata": {},
   "outputs": [],
   "source": [
    "# calling resize and pseudo color image formation in one go is easier\n",
    "def image_preprocessing(ori_Image):\n",
    "    small_Image = resize_img(ori_Image)\n",
    "    processed_Image = increase_channel(small_Image)\n",
    "    return processed_Image"
   ]
  },
  {
   "cell_type": "code",
   "execution_count": 7,
   "metadata": {},
   "outputs": [],
   "source": [
    "# get the image dataset by looping through categories in data directory\n",
    "def get_data():\n",
    "    for category in CATEGORIES:\n",
    "\n",
    "        path = os.path.join(DATADIR, category)\n",
    "        class_label = CATEGORIES.index(category)\n",
    "        counter = 0\n",
    "        for image in os.listdir(path):\n",
    "            img_ary = cv2.imread(os.path.join(path, image), cv2.IMREAD_GRAYSCALE)\n",
    "            img_processed_ary = image_preprocessing(img_ary)\n",
    "            \n",
    "#             write the psuedo color image \n",
    "            if category == 'covid':\n",
    "                filename = \"./data/covid/\"\n",
    "            elif category == 'health':\n",
    "                filename = \"./data/health/\"\n",
    "            filename += str(class_label)+\"_\"+str(counter)+\".png\"\n",
    "            cv2.imwrite(filename, np.array(img_processed_ary))\n",
    "            counter+=1"
   ]
  },
  {
   "cell_type": "code",
   "execution_count": 8,
   "metadata": {},
   "outputs": [],
   "source": [
    "get_data()"
   ]
  },
  {
   "cell_type": "code",
   "execution_count": null,
   "metadata": {},
   "outputs": [],
   "source": []
  }
 ],
 "metadata": {
  "kernelspec": {
   "display_name": "Python 3",
   "language": "python",
   "name": "python3"
  },
  "language_info": {
   "codemirror_mode": {
    "name": "ipython",
    "version": 3
   },
   "file_extension": ".py",
   "mimetype": "text/x-python",
   "name": "python",
   "nbconvert_exporter": "python",
   "pygments_lexer": "ipython3",
   "version": "3.8.5"
  }
 },
 "nbformat": 4,
 "nbformat_minor": 4
}
