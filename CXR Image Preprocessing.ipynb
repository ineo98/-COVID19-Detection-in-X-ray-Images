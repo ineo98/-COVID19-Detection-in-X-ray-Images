{
 "cells": [
  {
   "cell_type": "code",
   "execution_count": 16,
   "metadata": {},
   "outputs": [],
   "source": [
    "from keras.preprocessing.image import ImageDataGenerator\n",
    "from sklearn.model_selection import train_test_split\n",
    "from keras.preprocessing.image import img_to_array\n",
    "from keras.preprocessing.image import load_img\n",
    "import matplotlib.pyplot as plt\n",
    "import numpy as np\n",
    "import cv2\n",
    "import os\n",
    "import tensorflow\n",
    "import keras"
   ]
  },
  {
   "cell_type": "code",
   "execution_count": 2,
   "metadata": {},
   "outputs": [],
   "source": [
    "# directory which contains the image dataset from Kaggle\n",
    "DATADIR = \"C:/Users/Vern Sin/Documents/Jupyter/CXR Classification/ori\"\n",
    "\n",
    "# there are 2 category in the dataset\n",
    "CATEGORIES = [\"covid\", \"health\"]"
   ]
  },
  {
   "cell_type": "code",
   "execution_count": 3,
   "metadata": {},
   "outputs": [],
   "source": [
    "# resize image from both category\n",
    "def resize_img(LargeImage):\n",
    "    SmallImage = cv2.resize(LargeImage, (256, 256))\n",
    "    return SmallImage"
   ]
  },
  {
   "cell_type": "code",
   "execution_count": 4,
   "metadata": {},
   "outputs": [],
   "source": [
    "# create pseudo color image using list comprehension\n",
    "def increase_channel(smallImage):\n",
    "    image_BilateralFilter = cv2.bilateralFilter(smallImage, 9, 75, 75)\n",
    "    image_HistEqual = cv2.equalizeHist(smallImage)\n",
    "    final_image = [[np.array([image_HistEqual[i][j], smallImage[i][j], image_BilateralFilter[i][j]]) for j in range(256)] for i in range(256)]\n",
    "#     final_image = np.zeros([256,256,3])\n",
    "#     final_image[:,:,0] = np.array(image_HistEqual)\n",
    "#     final_image[:,:,1] = np.array(smallImage)\n",
    "#     final_image[:,:,2] = np.array(image_HistEqual)\n",
    "    return final_image"
   ]
  },
  {
   "cell_type": "code",
   "execution_count": 5,
   "metadata": {},
   "outputs": [],
   "source": [
    "# calling resize and pseudo color image formation in one go is easier\n",
    "def image_preprocessing(ori_Image):\n",
    "    small_Image = resize_img(ori_Image)\n",
    "    processed_Image = increase_channel(small_Image)\n",
    "    return processed_Image"
   ]
  },
  {
   "cell_type": "code",
   "execution_count": 9,
   "metadata": {},
   "outputs": [],
   "source": [
    "# get the image dataset by looping through categories in data directory\n",
    "def get_data():\n",
    "    Data = []\n",
    "    for category in CATEGORIES:\n",
    "        path = os.path.join(DATADIR, category)\n",
    "        class_label = CATEGORIES.index(category)\n",
    "        counter = 0\n",
    "        for image in os.listdir(path):\n",
    "            img_ary = cv2.imread(os.path.join(path, image), cv2.IMREAD_GRAYSCALE)\n",
    "            img_processed_ary = image_preprocessing(img_ary)\n",
    "            \n",
    "#             write the psuedo color image \n",
    "            filename = str(class_label)+\"_\"+str(counter)+\".png\"\n",
    "            cv2.imwrite(filename, np.array(img_processed_ary))\n",
    "            counter+=1\n",
    "            \n",
    "#             for later train test split use\n",
    "            Data.append([img_processed_ary, class_label])\n",
    "    \n",
    "    X = []\n",
    "    y = []\n",
    "    \n",
    "#     split the information from data into features and labels\n",
    "    for features, labels in Data:\n",
    "        X.append(features)\n",
    "        y.append(labels)\n",
    "        \n",
    "    return X, y"
   ]
  },
  {
   "cell_type": "code",
   "execution_count": 10,
   "metadata": {},
   "outputs": [],
   "source": [
    "X, y = get_data()\n",
    "X_train, X_test, y_train, y_test = train_test_split(X, y,test_size=0.2,random_state=0)"
   ]
  },
  {
   "cell_type": "code",
   "execution_count": 11,
   "metadata": {},
   "outputs": [],
   "source": [
    "# writing images from train set into train folder separated by different folders(categories)\n",
    "counter_covid = 0\n",
    "counter_health = 0\n",
    "for i in range(len(X_train)):\n",
    "    filename = \"./training/\"\n",
    "    if y_train[i] == 0:\n",
    "        filename += \"covid/\"+str(counter_covid)+\".png\"\n",
    "        cv2.imwrite(filename, np.array(X_train[i]))\n",
    "        counter_covid += 1\n",
    "    elif y_train[i] == 1:\n",
    "        filename += \"health/\"+str(counter_health)+\".png\"\n",
    "        cv2.imwrite(filename, np.array(X_train[i]))\n",
    "        counter_health += 1"
   ]
  },
  {
   "cell_type": "code",
   "execution_count": 12,
   "metadata": {},
   "outputs": [],
   "source": [
    "# writing images from train set into test folder separated by different folders(categories)\n",
    "counter_covid = 0\n",
    "counter_health = 0\n",
    "for i in range(len(X_test)):\n",
    "    filename = \"./testing/\"\n",
    "    if y_train[i] == 0:\n",
    "        filename += \"covid/\"+str(counter_covid)+\".png\"\n",
    "        cv2.imwrite(filename, np.array(X_train[i]))\n",
    "        counter_covid += 1\n",
    "    elif y_train[i] == 1:\n",
    "        filename += \"health/\"+str(counter_health)+\".png\"\n",
    "        cv2.imwrite(filename, np.array(X_train[i]))\n",
    "        counter_health += 1"
   ]
  },
  {
   "cell_type": "code",
   "execution_count": 17,
   "metadata": {},
   "outputs": [],
   "source": [
    "# augment the image only from training set, write them in a folder name \"preview\"\n",
    "TRAINDIR = \"C:/Users/Vern Sin/Documents/Jupyter/CXR Classification/training\"\n",
    "def augment_image():\n",
    "    train = ImageDataGenerator(rotation_range = 5, width_shift_range = 0.1, height_shift_range = 0.1, zoom_range = 0.1)\n",
    "    for category in CATEGORIES:\n",
    "        path = os.path.join(TRAINDIR, category)\n",
    "        class_label = CATEGORIES.index(category)\n",
    "        for image in os.listdir(path):\n",
    "            x_ray_img = load_img(os.path.join(path, image))\n",
    "            x_ray_ary = img_to_array(x_ray_img)  # this is a Numpy array with shape (3, 150, 150)\n",
    "            x_ray_ary = x_ray_ary.reshape((1,) + x_ray_ary.shape) \n",
    "            i=0\n",
    "            for batch in train.flow(x_ray_ary, batch_size=1, save_to_dir='preview', save_prefix=category, save_format='png'):\n",
    "                i += 1\n",
    "                if i > 20:\n",
    "                    break\n",
    "augment_image()"
   ]
  },
  {
   "cell_type": "code",
   "execution_count": null,
   "metadata": {},
   "outputs": [],
   "source": []
  }
 ],
 "metadata": {
  "kernelspec": {
   "display_name": "Python 3",
   "language": "python",
   "name": "python3"
  },
  "language_info": {
   "codemirror_mode": {
    "name": "ipython",
    "version": 3
   },
   "file_extension": ".py",
   "mimetype": "text/x-python",
   "name": "python",
   "nbconvert_exporter": "python",
   "pygments_lexer": "ipython3",
   "version": "3.8.5"
  }
 },
 "nbformat": 4,
 "nbformat_minor": 4
}
